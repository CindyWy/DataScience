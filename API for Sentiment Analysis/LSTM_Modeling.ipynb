{
  "cells": [
    {
      "cell_type": "markdown",
      "metadata": {
        "id": "hPm0rjF0xQFB"
      },
      "source": [
        "# **Prepare datasets**"
      ]
    },
    {
      "cell_type": "code",
      "execution_count": 1,
      "metadata": {
        "colab": {
          "base_uri": "https://localhost:8080/"
        },
        "id": "fMGQPKAt3qvr",
        "outputId": "2f7dbd3b-49c9-421c-a848-c8edfb748c15"
      },
      "outputs": [
        {
          "output_type": "stream",
          "name": "stdout",
          "text": [
            "Mounted at /content/drive\n"
          ]
        }
      ],
      "source": [
        "from google.colab import drive \n",
        "drive.mount('/content/drive')"
      ]
    },
    {
      "cell_type": "markdown",
      "metadata": {
        "id": "7NRvaee93k_1"
      },
      "source": [
        "Prepare data Train, from : https://drive.google.com/file/d/1RCHGfn9JJyyReAh8PIIoF8Ch0H3miP0u/view?usp=sharing"
      ]
    },
    {
      "cell_type": "code",
      "execution_count": 2,
      "metadata": {
        "id": "mYX4AwYl3k_2"
      },
      "outputs": [],
      "source": [
        "import pandas as pd\n",
        "import sklearn\n",
        "import re \n",
        "\n",
        "\n",
        "import pickle\n",
        "from tensorflow.keras.preprocessing.text import Tokenizer\n",
        "from tensorflow.keras.preprocessing.sequence import pad_sequences\n",
        "from collections import defaultdict\n",
        "\n",
        "from sklearn.model_selection import train_test_split\n",
        "\n",
        "import numpy as np\n",
        "from tensorflow.keras import layers\n",
        "from tensorflow.keras.models import Sequential\n",
        "from tensorflow.keras.layers import Dense, Embedding, LSTM, SpatialDropout1D, SimpleRNN, Activation, Dropout, BatchNormalization\n",
        "from tensorflow.keras import optimizers\n",
        "from tensorflow.keras.callbacks import EarlyStopping, TensorBoard\n",
        "from tensorflow.keras.layers import Flatten\n",
        "from tensorflow.keras import backend as K\n",
        "\n",
        "from sklearn import metrics\n",
        "\n",
        "\n",
        "import numpy as np\n",
        "from sklearn.metrics import classification_report\n",
        "from sklearn.metrics import accuracy_score\n",
        "from sklearn.model_selection import KFold\n",
        "\n",
        "import matplotlib.pyplot as plt"
      ]
    },
    {
      "cell_type": "code",
      "execution_count": 3,
      "metadata": {
        "id": "NiKilZQ73k_6"
      },
      "outputs": [],
      "source": [
        "df = pd.read_csv('train_data.csv', sep=';')"
      ]
    },
    {
      "cell_type": "code",
      "execution_count": 4,
      "metadata": {
        "colab": {
          "base_uri": "https://localhost:8080/",
          "height": 206
        },
        "id": "3wLOPf8RRAjh",
        "outputId": "fc902bf0-9f25-44ef-d9f4-0f52cf9d986e"
      },
      "outputs": [
        {
          "output_type": "execute_result",
          "data": {
            "text/plain": [
              "                                                text     label\n",
              "0  warung ini dimiliki oleh pengusaha pabrik tahu...  positive\n",
              "1  mohon ulama lurus dan k212 mmbri hujjah partai...   neutral\n",
              "2  lokasi strategis di jalan sumatera bandung . t...  positive\n",
              "3  betapa bahagia nya diri ini saat unboxing pake...  positive\n",
              "4  duh . jadi mahasiswa jangan sombong dong . kas...  negative"
            ],
            "text/html": [
              "\n",
              "  <div id=\"df-7681f7d4-613c-4a27-add2-fef1893143c2\">\n",
              "    <div class=\"colab-df-container\">\n",
              "      <div>\n",
              "<style scoped>\n",
              "    .dataframe tbody tr th:only-of-type {\n",
              "        vertical-align: middle;\n",
              "    }\n",
              "\n",
              "    .dataframe tbody tr th {\n",
              "        vertical-align: top;\n",
              "    }\n",
              "\n",
              "    .dataframe thead th {\n",
              "        text-align: right;\n",
              "    }\n",
              "</style>\n",
              "<table border=\"1\" class=\"dataframe\">\n",
              "  <thead>\n",
              "    <tr style=\"text-align: right;\">\n",
              "      <th></th>\n",
              "      <th>text</th>\n",
              "      <th>label</th>\n",
              "    </tr>\n",
              "  </thead>\n",
              "  <tbody>\n",
              "    <tr>\n",
              "      <th>0</th>\n",
              "      <td>warung ini dimiliki oleh pengusaha pabrik tahu...</td>\n",
              "      <td>positive</td>\n",
              "    </tr>\n",
              "    <tr>\n",
              "      <th>1</th>\n",
              "      <td>mohon ulama lurus dan k212 mmbri hujjah partai...</td>\n",
              "      <td>neutral</td>\n",
              "    </tr>\n",
              "    <tr>\n",
              "      <th>2</th>\n",
              "      <td>lokasi strategis di jalan sumatera bandung . t...</td>\n",
              "      <td>positive</td>\n",
              "    </tr>\n",
              "    <tr>\n",
              "      <th>3</th>\n",
              "      <td>betapa bahagia nya diri ini saat unboxing pake...</td>\n",
              "      <td>positive</td>\n",
              "    </tr>\n",
              "    <tr>\n",
              "      <th>4</th>\n",
              "      <td>duh . jadi mahasiswa jangan sombong dong . kas...</td>\n",
              "      <td>negative</td>\n",
              "    </tr>\n",
              "  </tbody>\n",
              "</table>\n",
              "</div>\n",
              "      <button class=\"colab-df-convert\" onclick=\"convertToInteractive('df-7681f7d4-613c-4a27-add2-fef1893143c2')\"\n",
              "              title=\"Convert this dataframe to an interactive table.\"\n",
              "              style=\"display:none;\">\n",
              "        \n",
              "  <svg xmlns=\"http://www.w3.org/2000/svg\" height=\"24px\"viewBox=\"0 0 24 24\"\n",
              "       width=\"24px\">\n",
              "    <path d=\"M0 0h24v24H0V0z\" fill=\"none\"/>\n",
              "    <path d=\"M18.56 5.44l.94 2.06.94-2.06 2.06-.94-2.06-.94-.94-2.06-.94 2.06-2.06.94zm-11 1L8.5 8.5l.94-2.06 2.06-.94-2.06-.94L8.5 2.5l-.94 2.06-2.06.94zm10 10l.94 2.06.94-2.06 2.06-.94-2.06-.94-.94-2.06-.94 2.06-2.06.94z\"/><path d=\"M17.41 7.96l-1.37-1.37c-.4-.4-.92-.59-1.43-.59-.52 0-1.04.2-1.43.59L10.3 9.45l-7.72 7.72c-.78.78-.78 2.05 0 2.83L4 21.41c.39.39.9.59 1.41.59.51 0 1.02-.2 1.41-.59l7.78-7.78 2.81-2.81c.8-.78.8-2.07 0-2.86zM5.41 20L4 18.59l7.72-7.72 1.47 1.35L5.41 20z\"/>\n",
              "  </svg>\n",
              "      </button>\n",
              "      \n",
              "  <style>\n",
              "    .colab-df-container {\n",
              "      display:flex;\n",
              "      flex-wrap:wrap;\n",
              "      gap: 12px;\n",
              "    }\n",
              "\n",
              "    .colab-df-convert {\n",
              "      background-color: #E8F0FE;\n",
              "      border: none;\n",
              "      border-radius: 50%;\n",
              "      cursor: pointer;\n",
              "      display: none;\n",
              "      fill: #1967D2;\n",
              "      height: 32px;\n",
              "      padding: 0 0 0 0;\n",
              "      width: 32px;\n",
              "    }\n",
              "\n",
              "    .colab-df-convert:hover {\n",
              "      background-color: #E2EBFA;\n",
              "      box-shadow: 0px 1px 2px rgba(60, 64, 67, 0.3), 0px 1px 3px 1px rgba(60, 64, 67, 0.15);\n",
              "      fill: #174EA6;\n",
              "    }\n",
              "\n",
              "    [theme=dark] .colab-df-convert {\n",
              "      background-color: #3B4455;\n",
              "      fill: #D2E3FC;\n",
              "    }\n",
              "\n",
              "    [theme=dark] .colab-df-convert:hover {\n",
              "      background-color: #434B5C;\n",
              "      box-shadow: 0px 1px 3px 1px rgba(0, 0, 0, 0.15);\n",
              "      filter: drop-shadow(0px 1px 2px rgba(0, 0, 0, 0.3));\n",
              "      fill: #FFFFFF;\n",
              "    }\n",
              "  </style>\n",
              "\n",
              "      <script>\n",
              "        const buttonEl =\n",
              "          document.querySelector('#df-7681f7d4-613c-4a27-add2-fef1893143c2 button.colab-df-convert');\n",
              "        buttonEl.style.display =\n",
              "          google.colab.kernel.accessAllowed ? 'block' : 'none';\n",
              "\n",
              "        async function convertToInteractive(key) {\n",
              "          const element = document.querySelector('#df-7681f7d4-613c-4a27-add2-fef1893143c2');\n",
              "          const dataTable =\n",
              "            await google.colab.kernel.invokeFunction('convertToInteractive',\n",
              "                                                     [key], {});\n",
              "          if (!dataTable) return;\n",
              "\n",
              "          const docLinkHtml = 'Like what you see? Visit the ' +\n",
              "            '<a target=\"_blank\" href=https://colab.research.google.com/notebooks/data_table.ipynb>data table notebook</a>'\n",
              "            + ' to learn more about interactive tables.';\n",
              "          element.innerHTML = '';\n",
              "          dataTable['output_type'] = 'display_data';\n",
              "          await google.colab.output.renderOutput(dataTable, element);\n",
              "          const docLink = document.createElement('div');\n",
              "          docLink.innerHTML = docLinkHtml;\n",
              "          element.appendChild(docLink);\n",
              "        }\n",
              "      </script>\n",
              "    </div>\n",
              "  </div>\n",
              "  "
            ]
          },
          "metadata": {},
          "execution_count": 4
        }
      ],
      "source": [
        "df.head()"
      ]
    },
    {
      "cell_type": "code",
      "execution_count": 5,
      "metadata": {
        "colab": {
          "base_uri": "https://localhost:8080/"
        },
        "id": "ARQHu9L6RKz_",
        "outputId": "b9a2050b-844e-4737-d83c-8156306d5940"
      },
      "outputs": [
        {
          "output_type": "execute_result",
          "data": {
            "text/plain": [
              "(11000, 2)"
            ]
          },
          "metadata": {},
          "execution_count": 5
        }
      ],
      "source": [
        "df.shape"
      ]
    },
    {
      "cell_type": "code",
      "execution_count": 6,
      "metadata": {
        "colab": {
          "base_uri": "https://localhost:8080/"
        },
        "id": "_By_KBwtRPrv",
        "outputId": "38ed70cf-8b52-440d-df88-9e4f198a4651"
      },
      "outputs": [
        {
          "output_type": "execute_result",
          "data": {
            "text/plain": [
              "positive    6416\n",
              "negative    3436\n",
              "neutral     1148\n",
              "Name: label, dtype: int64"
            ]
          },
          "metadata": {},
          "execution_count": 6
        }
      ],
      "source": [
        "df.label.value_counts()"
      ]
    },
    {
      "cell_type": "markdown",
      "metadata": {
        "id": "IdaMLFPxCADq"
      },
      "source": [
        "# **Text Normalization/Cleansing**"
      ]
    },
    {
      "cell_type": "markdown",
      "metadata": {
        "id": "RQGFotyxJp8e"
      },
      "source": [
        "Cleansing strategy :\n",
        "1. Lower the text\n",
        "2. Remove unwanted symbol\n",
        "3. Normalized slankword with Kamus Alay\n",
        "4. Remove stopwords from NLTK indonesia"
      ]
    },
    {
      "cell_type": "code",
      "execution_count": 7,
      "metadata": {
        "id": "cBuvnl7iCADu"
      },
      "outputs": [],
      "source": [
        "def cleansing(sent):\n",
        "    string = sent.lower()\n",
        "    string = re.sub(r'[^a-zA-Z0-9]', ' ', string)\n",
        "    string = re.sub(r'([^\\s\\w]|_)+', ' ', string)\n",
        "    return string"
      ]
    },
    {
      "cell_type": "code",
      "execution_count": 8,
      "metadata": {
        "id": "eCYJNdgAJ4if"
      },
      "outputs": [],
      "source": [
        "df['text_clean'] = df.text.apply(cleansing)"
      ]
    },
    {
      "cell_type": "code",
      "execution_count": 9,
      "metadata": {
        "id": "BfSDojOv3lAB",
        "scrolled": true
      },
      "outputs": [],
      "source": [
        "import sqlite3 as sql\n",
        "conn1 = sql.connect('/content/dictionary_db.db')\n",
        "df3 = pd.read_sql_query(''' select * from kamusalay_tb;''', conn1)"
      ]
    },
    {
      "cell_type": "code",
      "execution_count": 10,
      "metadata": {
        "id": "diu36FPq3lAC"
      },
      "outputs": [],
      "source": [
        "#Normalize based on kamus Alay\n",
        "df3_dict = df3.set_index('alay',drop=True).to_dict()['normal']\n",
        "pattern = r\"\\b(\" + \"|\".join(re.escape(k) for k in df3_dict) + r\")\\b\"\n",
        "df['text_clean'] = df['text_clean'].str.replace(pattern, lambda m: df3_dict[m.group(0)], regex=True)"
      ]
    },
    {
      "cell_type": "code",
      "execution_count": 11,
      "metadata": {
        "id": "n5RsfTi93lAD"
      },
      "outputs": [],
      "source": [
        "# !pip install Sastrawi\n",
        "# from Sastrawi.StopWordRemover.StopWordRemoverFactory import StopWordRemoverFactory\n",
        "# stop_factory = StopWordRemoverFactory()\n",
        "# more_stopword = ['dengan','ia','bahwa','oleh']\n",
        "# data = stop_factory.get_stop_words()+more_stopword\n",
        "# stopword = stop_factory.create_stop_word_remover()\n",
        "# print(data)"
      ]
    },
    {
      "cell_type": "code",
      "execution_count": 12,
      "metadata": {
        "id": "DXy12Bxi3lAD"
      },
      "outputs": [],
      "source": [
        "# #Remove stopwords based on Sastrawi\n",
        "# def remove_stopwords (text) :\n",
        "#     text =' '.join(word for word in text.split() if word not in data)\n",
        "#     return text"
      ]
    },
    {
      "cell_type": "code",
      "execution_count": 13,
      "metadata": {
        "colab": {
          "base_uri": "https://localhost:8080/"
        },
        "id": "KGzwuzjAHd2U",
        "outputId": "49f73737-5ed9-42a3-d8b9-cd5270c409d8"
      },
      "outputs": [
        {
          "output_type": "stream",
          "name": "stderr",
          "text": [
            "[nltk_data] Downloading package stopwords to /root/nltk_data...\n",
            "[nltk_data]   Unzipping corpora/stopwords.zip.\n"
          ]
        }
      ],
      "source": [
        "# Downloads the data.\n",
        "import nltk\n",
        "nltk.download('stopwords')\n",
        "\n",
        "\n",
        "# Using the stopwords.\n",
        "from nltk.corpus import stopwords\n",
        "\n",
        "# Initialize the stopwords\n",
        "# stoplist = stopwords.words('indonesian')"
      ]
    },
    {
      "cell_type": "code",
      "execution_count": 14,
      "metadata": {
        "id": "gksxji8HC4qV"
      },
      "outputs": [],
      "source": [
        "#Remove stopwords based on NLTK\n",
        "def remove_stopwords (text) :\n",
        "    text =' '.join(word for word in text.split() if word not in nltk.corpus.stopwords.words('indonesian'))\n",
        "    return text"
      ]
    },
    {
      "cell_type": "code",
      "execution_count": 15,
      "metadata": {
        "id": "RmrJLrO7GPtR"
      },
      "outputs": [],
      "source": [
        "df['text_clean'] = df['text_clean'].apply(lambda x: remove_stopwords(x))"
      ]
    },
    {
      "cell_type": "code",
      "execution_count": 16,
      "metadata": {
        "colab": {
          "base_uri": "https://localhost:8080/",
          "height": 1000
        },
        "id": "4OcbMeNb3lAE",
        "outputId": "40881589-f27a-461e-b2ac-3e8f1f6ba1eb"
      },
      "outputs": [
        {
          "output_type": "execute_result",
          "data": {
            "text/plain": [
              "                                                    text     label  \\\n",
              "5513   ri targetkan angka perdagangan dengan vietnam ...   neutral   \n",
              "303    gerai minuman di foodcourt griya metro , pilih...  positive   \n",
              "9444   ini ada restoran favorit saya . letak nya tida...  positive   \n",
              "4770   tempat nya strategis . porsi nya banyak dan en...  negative   \n",
              "2796   suasana dan tempat oke banget dari saya masih ...  positive   \n",
              "5596           jokowi sayang dan cinta kepada rakyat nya  positive   \n",
              "7188   saya sengaja memilih roti bakar dan kopi di ea...  positive   \n",
              "10224  handphone samsung milik ku benar-benar bagus d...  positive   \n",
              "6256   tempat ini terkenal banget di kalangan mahasis...  positive   \n",
              "6345   mahal . pilhan makanan biasa saja . tidak ada ...  negative   \n",
              "10724  selalu datang ke sini di kala kelaparan dan in...  positive   \n",
              "8173   jika datang sewaktu jam makan , siapkan tenaga...  positive   \n",
              "5315                                       tidak terbaik  negative   \n",
              "4561   sujiwo tedjo sepertinya tidak pernah ikut maje...  negative   \n",
              "6329   tempat ini hanya berupa kantin rumahan , bukan...  positive   \n",
              "10169  malam ini makan sekeluarga di sini , ada beber...  negative   \n",
              "10660  makan di kampung daun sama dengan makan di hut...  positive   \n",
              "8192   dki diminta mewajibkan gedung perkantoran sedi...   neutral   \n",
              "2144   pak anies tidak dicegat tidak boleh sedangkan ...  negative   \n",
              "1793   sebenarnya kubu jokowi tidak suka oposisi kare...  negative   \n",
              "4102               tumben waras nih ustaz gila dan sesat  negative   \n",
              "2021   berlibur pada saat lebaran membuat kami kesusa...  positive   \n",
              "1240   pria tabrak warga dengan mobil di prancis , 2 ...   neutral   \n",
              "4312   mie nya enak , bakso goreng nya enak , nasi go...  positive   \n",
              "65     sok pencitraan sekali , basi sama gaya lu . le...  negative   \n",
              "8544   hello , kali ini saya sedang berada di bandung...  positive   \n",
              "10383  lokasi cukup terpencil namun mudah dijangkau ,...  positive   \n",
              "3777   makanan nya lumayan enak , pelayanan nya juga ...  positive   \n",
              "5007   wakil gubernur dki jakarta , sandiaga uno melu...   neutral   \n",
              "10667                                          amburadul  negative   \n",
              "10745  ini nih tempat makan yang dicari kalau lagi in...  positive   \n",
              "5392   untuk menu makanan sebenarnya tidak terlalu ba...  positive   \n",
              "2399   warung bakso yang cuma ada di kota bandung den...  positive   \n",
              "8837                                          berantakan  negative   \n",
              "8595                                                rapi  positive   \n",
              "997    bongkar saja pak sby sekalian toh ini negri ju...  negative   \n",
              "1127                      pks itu partai korupsi sapi ya  negative   \n",
              "2545   sama sih , mau nya makan indomie sebulan sekal...  negative   \n",
              "5826                                        tidak menang  negative   \n",
              "2677   bagi para pencinta kuliner sebaiknya mencoba m...  positive   \n",
              "2117   kehidupan mengajarkan arti sebuah ikhlas dalam...  positive   \n",
              "3906   spotify ribet , pakai ada administrasi bulanan...  negative   \n",
              "5712   sudah jadi rutinitas kalau ke bandung pasti si...  positive   \n",
              "10179  laki-laki sampah ahok . tidak bisa memuaskan n...  negative   \n",
              "4015   tidak tertandingi . rasa , variasi menu sangat...  positive   \n",
              "10050  : jangan lewatkan diskon langsung hingga rp 10...   neutral   \n",
              "7934   sambal nya bikin ketagihan , rasa ayam nya tid...  positive   \n",
              "4148   serius . sampai detik ini saya belum melihat s...  negative   \n",
              "2198   harga memang tidak bisa bohong , walaupun untu...  positive   \n",
              "737    untuk layanan weekend banking yang berlokasi d...   neutral   \n",
              "\n",
              "                                              text_clean  \n",
              "5513   ri targetkan angka perdagangan vietnam rupiah ...  \n",
              "303    gerai minuman foodcourt griya metro pilihan mi...  \n",
              "9444   restoran favorit letak nya kesan dago coba deh...  \n",
              "4770   nya strategis porsi nya enak kali kesan tingga...  \n",
              "2796   suasana oke banget zaman kuliah berkeluarga me...  \n",
              "5596                      jokowi sayang cinta rakyat nya  \n",
              "7188   sengaja memilih roti bakar kopi eaton express ...  \n",
              "10224              handphone samsung milik ku bagus awet  \n",
              "6256   terkenal banget kalangan mahasiswa enak harga ...  \n",
              "6345   mahal pilhan makanan spesial nasi rames puluha...  \n",
              "10724  kelaparan makan jajanan jalanan murah meriah l...  \n",
              "8173   jam makan siapkan tenaga antre antre mengambil...  \n",
              "5315                                             terbaik  \n",
              "4561   sujiwo tedjo majelis ilmu pemahaman islam nya ...  \n",
              "6329   kantin rumahan tujuan wisata kuliner makan seh...  \n",
              "10169  malam makan sekeluarga bikin kapok pelayan men...  \n",
              "10660  makan kampung daun makan hutan pegunungan alam...  \n",
              "8192   daerah khusus ibukota mewajibkan gedung perkan...  \n",
              "2144     anies dicegat ahok nya dikasih masuk membiarkan  \n",
              "1793   kubu jokowi suka oposisi bawahan nya goblok pr...  \n",
              "4102                   tumben waras nih ustaz gila sesat  \n",
              "2021   berlibur lebaran kesusahan mencari hotel mengi...  \n",
              "1240           pria tabrak warga mobil prancis 2 terluka  \n",
              "4312   mie nya enak bakso goreng nya enak nasi goreng...  \n",
              "65     sok pencitraan basi gaya wibawa seragam coklat...  \n",
              "8544   halo kali bandung kali mencoba makan eatboss k...  \n",
              "10383  lokasi terpencil mudah dijangkau mencari lokas...  \n",
              "3777   makanan nya lumayan enak pelayanan nya lumayan...  \n",
              "5007   wakil gubernur daerah khusus ibukota jakarta s...  \n",
              "10667                                          amburadul  \n",
              "10745  nih makan dicari makan burger french fries ice...  \n",
              "5392   menu makanan acungi jempol enak harga relatif ...  \n",
              "2399   warung bakso kota bandung tambahan ceker tulan...  \n",
              "8837                                          berantakan  \n",
              "8595                                                rapi  \n",
              "997       bongkar susilo bambang yudhoyono negeri hancur  \n",
              "1127    partai keadilan sejahtera partai korupsi sapi ya  \n",
              "2545   sih nya makan indomie sebulan tanggal ulang ta...  \n",
              "5826                                              menang  \n",
              "2677   pencinta kuliner mencoba mengunjungi penilaian...  \n",
              "2117   kehidupan mengajarkan arti ikhlas kesabaran me...  \n",
              "3906            spotify ribet pakai administrasi bulanan  \n",
              "5712   rutinitas bandung singgah overpriced penuh pes...  \n",
              "10179         laki laki sampah ahok memuaskan nafsu vero  \n",
              "4015   tertandingi variasi menu menggoda selera direk...  \n",
              "10050  melewati diskon langsung rupiah 10 juta senang...  \n",
              "7934   sambal nya bikin ketagihan ayam nya nya pelaya...  \n",
              "4148   serius detik satupun tim sukses bosan cerdas o...  \n",
              "2198   harga bohong ukuran batagor mahal enak banget ...  \n",
              "737    layanan pekan banking berlokasi bekasi ernest ...  "
            ],
            "text/html": [
              "\n",
              "  <div id=\"df-ba6da0e0-72dc-43e3-86dc-18934d4d6ec3\">\n",
              "    <div class=\"colab-df-container\">\n",
              "      <div>\n",
              "<style scoped>\n",
              "    .dataframe tbody tr th:only-of-type {\n",
              "        vertical-align: middle;\n",
              "    }\n",
              "\n",
              "    .dataframe tbody tr th {\n",
              "        vertical-align: top;\n",
              "    }\n",
              "\n",
              "    .dataframe thead th {\n",
              "        text-align: right;\n",
              "    }\n",
              "</style>\n",
              "<table border=\"1\" class=\"dataframe\">\n",
              "  <thead>\n",
              "    <tr style=\"text-align: right;\">\n",
              "      <th></th>\n",
              "      <th>text</th>\n",
              "      <th>label</th>\n",
              "      <th>text_clean</th>\n",
              "    </tr>\n",
              "  </thead>\n",
              "  <tbody>\n",
              "    <tr>\n",
              "      <th>5513</th>\n",
              "      <td>ri targetkan angka perdagangan dengan vietnam ...</td>\n",
              "      <td>neutral</td>\n",
              "      <td>ri targetkan angka perdagangan vietnam rupiah ...</td>\n",
              "    </tr>\n",
              "    <tr>\n",
              "      <th>303</th>\n",
              "      <td>gerai minuman di foodcourt griya metro , pilih...</td>\n",
              "      <td>positive</td>\n",
              "      <td>gerai minuman foodcourt griya metro pilihan mi...</td>\n",
              "    </tr>\n",
              "    <tr>\n",
              "      <th>9444</th>\n",
              "      <td>ini ada restoran favorit saya . letak nya tida...</td>\n",
              "      <td>positive</td>\n",
              "      <td>restoran favorit letak nya kesan dago coba deh...</td>\n",
              "    </tr>\n",
              "    <tr>\n",
              "      <th>4770</th>\n",
              "      <td>tempat nya strategis . porsi nya banyak dan en...</td>\n",
              "      <td>negative</td>\n",
              "      <td>nya strategis porsi nya enak kali kesan tingga...</td>\n",
              "    </tr>\n",
              "    <tr>\n",
              "      <th>2796</th>\n",
              "      <td>suasana dan tempat oke banget dari saya masih ...</td>\n",
              "      <td>positive</td>\n",
              "      <td>suasana oke banget zaman kuliah berkeluarga me...</td>\n",
              "    </tr>\n",
              "    <tr>\n",
              "      <th>5596</th>\n",
              "      <td>jokowi sayang dan cinta kepada rakyat nya</td>\n",
              "      <td>positive</td>\n",
              "      <td>jokowi sayang cinta rakyat nya</td>\n",
              "    </tr>\n",
              "    <tr>\n",
              "      <th>7188</th>\n",
              "      <td>saya sengaja memilih roti bakar dan kopi di ea...</td>\n",
              "      <td>positive</td>\n",
              "      <td>sengaja memilih roti bakar kopi eaton express ...</td>\n",
              "    </tr>\n",
              "    <tr>\n",
              "      <th>10224</th>\n",
              "      <td>handphone samsung milik ku benar-benar bagus d...</td>\n",
              "      <td>positive</td>\n",
              "      <td>handphone samsung milik ku bagus awet</td>\n",
              "    </tr>\n",
              "    <tr>\n",
              "      <th>6256</th>\n",
              "      <td>tempat ini terkenal banget di kalangan mahasis...</td>\n",
              "      <td>positive</td>\n",
              "      <td>terkenal banget kalangan mahasiswa enak harga ...</td>\n",
              "    </tr>\n",
              "    <tr>\n",
              "      <th>6345</th>\n",
              "      <td>mahal . pilhan makanan biasa saja . tidak ada ...</td>\n",
              "      <td>negative</td>\n",
              "      <td>mahal pilhan makanan spesial nasi rames puluha...</td>\n",
              "    </tr>\n",
              "    <tr>\n",
              "      <th>10724</th>\n",
              "      <td>selalu datang ke sini di kala kelaparan dan in...</td>\n",
              "      <td>positive</td>\n",
              "      <td>kelaparan makan jajanan jalanan murah meriah l...</td>\n",
              "    </tr>\n",
              "    <tr>\n",
              "      <th>8173</th>\n",
              "      <td>jika datang sewaktu jam makan , siapkan tenaga...</td>\n",
              "      <td>positive</td>\n",
              "      <td>jam makan siapkan tenaga antre antre mengambil...</td>\n",
              "    </tr>\n",
              "    <tr>\n",
              "      <th>5315</th>\n",
              "      <td>tidak terbaik</td>\n",
              "      <td>negative</td>\n",
              "      <td>terbaik</td>\n",
              "    </tr>\n",
              "    <tr>\n",
              "      <th>4561</th>\n",
              "      <td>sujiwo tedjo sepertinya tidak pernah ikut maje...</td>\n",
              "      <td>negative</td>\n",
              "      <td>sujiwo tedjo majelis ilmu pemahaman islam nya ...</td>\n",
              "    </tr>\n",
              "    <tr>\n",
              "      <th>6329</th>\n",
              "      <td>tempat ini hanya berupa kantin rumahan , bukan...</td>\n",
              "      <td>positive</td>\n",
              "      <td>kantin rumahan tujuan wisata kuliner makan seh...</td>\n",
              "    </tr>\n",
              "    <tr>\n",
              "      <th>10169</th>\n",
              "      <td>malam ini makan sekeluarga di sini , ada beber...</td>\n",
              "      <td>negative</td>\n",
              "      <td>malam makan sekeluarga bikin kapok pelayan men...</td>\n",
              "    </tr>\n",
              "    <tr>\n",
              "      <th>10660</th>\n",
              "      <td>makan di kampung daun sama dengan makan di hut...</td>\n",
              "      <td>positive</td>\n",
              "      <td>makan kampung daun makan hutan pegunungan alam...</td>\n",
              "    </tr>\n",
              "    <tr>\n",
              "      <th>8192</th>\n",
              "      <td>dki diminta mewajibkan gedung perkantoran sedi...</td>\n",
              "      <td>neutral</td>\n",
              "      <td>daerah khusus ibukota mewajibkan gedung perkan...</td>\n",
              "    </tr>\n",
              "    <tr>\n",
              "      <th>2144</th>\n",
              "      <td>pak anies tidak dicegat tidak boleh sedangkan ...</td>\n",
              "      <td>negative</td>\n",
              "      <td>anies dicegat ahok nya dikasih masuk membiarkan</td>\n",
              "    </tr>\n",
              "    <tr>\n",
              "      <th>1793</th>\n",
              "      <td>sebenarnya kubu jokowi tidak suka oposisi kare...</td>\n",
              "      <td>negative</td>\n",
              "      <td>kubu jokowi suka oposisi bawahan nya goblok pr...</td>\n",
              "    </tr>\n",
              "    <tr>\n",
              "      <th>4102</th>\n",
              "      <td>tumben waras nih ustaz gila dan sesat</td>\n",
              "      <td>negative</td>\n",
              "      <td>tumben waras nih ustaz gila sesat</td>\n",
              "    </tr>\n",
              "    <tr>\n",
              "      <th>2021</th>\n",
              "      <td>berlibur pada saat lebaran membuat kami kesusa...</td>\n",
              "      <td>positive</td>\n",
              "      <td>berlibur lebaran kesusahan mencari hotel mengi...</td>\n",
              "    </tr>\n",
              "    <tr>\n",
              "      <th>1240</th>\n",
              "      <td>pria tabrak warga dengan mobil di prancis , 2 ...</td>\n",
              "      <td>neutral</td>\n",
              "      <td>pria tabrak warga mobil prancis 2 terluka</td>\n",
              "    </tr>\n",
              "    <tr>\n",
              "      <th>4312</th>\n",
              "      <td>mie nya enak , bakso goreng nya enak , nasi go...</td>\n",
              "      <td>positive</td>\n",
              "      <td>mie nya enak bakso goreng nya enak nasi goreng...</td>\n",
              "    </tr>\n",
              "    <tr>\n",
              "      <th>65</th>\n",
              "      <td>sok pencitraan sekali , basi sama gaya lu . le...</td>\n",
              "      <td>negative</td>\n",
              "      <td>sok pencitraan basi gaya wibawa seragam coklat...</td>\n",
              "    </tr>\n",
              "    <tr>\n",
              "      <th>8544</th>\n",
              "      <td>hello , kali ini saya sedang berada di bandung...</td>\n",
              "      <td>positive</td>\n",
              "      <td>halo kali bandung kali mencoba makan eatboss k...</td>\n",
              "    </tr>\n",
              "    <tr>\n",
              "      <th>10383</th>\n",
              "      <td>lokasi cukup terpencil namun mudah dijangkau ,...</td>\n",
              "      <td>positive</td>\n",
              "      <td>lokasi terpencil mudah dijangkau mencari lokas...</td>\n",
              "    </tr>\n",
              "    <tr>\n",
              "      <th>3777</th>\n",
              "      <td>makanan nya lumayan enak , pelayanan nya juga ...</td>\n",
              "      <td>positive</td>\n",
              "      <td>makanan nya lumayan enak pelayanan nya lumayan...</td>\n",
              "    </tr>\n",
              "    <tr>\n",
              "      <th>5007</th>\n",
              "      <td>wakil gubernur dki jakarta , sandiaga uno melu...</td>\n",
              "      <td>neutral</td>\n",
              "      <td>wakil gubernur daerah khusus ibukota jakarta s...</td>\n",
              "    </tr>\n",
              "    <tr>\n",
              "      <th>10667</th>\n",
              "      <td>amburadul</td>\n",
              "      <td>negative</td>\n",
              "      <td>amburadul</td>\n",
              "    </tr>\n",
              "    <tr>\n",
              "      <th>10745</th>\n",
              "      <td>ini nih tempat makan yang dicari kalau lagi in...</td>\n",
              "      <td>positive</td>\n",
              "      <td>nih makan dicari makan burger french fries ice...</td>\n",
              "    </tr>\n",
              "    <tr>\n",
              "      <th>5392</th>\n",
              "      <td>untuk menu makanan sebenarnya tidak terlalu ba...</td>\n",
              "      <td>positive</td>\n",
              "      <td>menu makanan acungi jempol enak harga relatif ...</td>\n",
              "    </tr>\n",
              "    <tr>\n",
              "      <th>2399</th>\n",
              "      <td>warung bakso yang cuma ada di kota bandung den...</td>\n",
              "      <td>positive</td>\n",
              "      <td>warung bakso kota bandung tambahan ceker tulan...</td>\n",
              "    </tr>\n",
              "    <tr>\n",
              "      <th>8837</th>\n",
              "      <td>berantakan</td>\n",
              "      <td>negative</td>\n",
              "      <td>berantakan</td>\n",
              "    </tr>\n",
              "    <tr>\n",
              "      <th>8595</th>\n",
              "      <td>rapi</td>\n",
              "      <td>positive</td>\n",
              "      <td>rapi</td>\n",
              "    </tr>\n",
              "    <tr>\n",
              "      <th>997</th>\n",
              "      <td>bongkar saja pak sby sekalian toh ini negri ju...</td>\n",
              "      <td>negative</td>\n",
              "      <td>bongkar susilo bambang yudhoyono negeri hancur</td>\n",
              "    </tr>\n",
              "    <tr>\n",
              "      <th>1127</th>\n",
              "      <td>pks itu partai korupsi sapi ya</td>\n",
              "      <td>negative</td>\n",
              "      <td>partai keadilan sejahtera partai korupsi sapi ya</td>\n",
              "    </tr>\n",
              "    <tr>\n",
              "      <th>2545</th>\n",
              "      <td>sama sih , mau nya makan indomie sebulan sekal...</td>\n",
              "      <td>negative</td>\n",
              "      <td>sih nya makan indomie sebulan tanggal ulang ta...</td>\n",
              "    </tr>\n",
              "    <tr>\n",
              "      <th>5826</th>\n",
              "      <td>tidak menang</td>\n",
              "      <td>negative</td>\n",
              "      <td>menang</td>\n",
              "    </tr>\n",
              "    <tr>\n",
              "      <th>2677</th>\n",
              "      <td>bagi para pencinta kuliner sebaiknya mencoba m...</td>\n",
              "      <td>positive</td>\n",
              "      <td>pencinta kuliner mencoba mengunjungi penilaian...</td>\n",
              "    </tr>\n",
              "    <tr>\n",
              "      <th>2117</th>\n",
              "      <td>kehidupan mengajarkan arti sebuah ikhlas dalam...</td>\n",
              "      <td>positive</td>\n",
              "      <td>kehidupan mengajarkan arti ikhlas kesabaran me...</td>\n",
              "    </tr>\n",
              "    <tr>\n",
              "      <th>3906</th>\n",
              "      <td>spotify ribet , pakai ada administrasi bulanan...</td>\n",
              "      <td>negative</td>\n",
              "      <td>spotify ribet pakai administrasi bulanan</td>\n",
              "    </tr>\n",
              "    <tr>\n",
              "      <th>5712</th>\n",
              "      <td>sudah jadi rutinitas kalau ke bandung pasti si...</td>\n",
              "      <td>positive</td>\n",
              "      <td>rutinitas bandung singgah overpriced penuh pes...</td>\n",
              "    </tr>\n",
              "    <tr>\n",
              "      <th>10179</th>\n",
              "      <td>laki-laki sampah ahok . tidak bisa memuaskan n...</td>\n",
              "      <td>negative</td>\n",
              "      <td>laki laki sampah ahok memuaskan nafsu vero</td>\n",
              "    </tr>\n",
              "    <tr>\n",
              "      <th>4015</th>\n",
              "      <td>tidak tertandingi . rasa , variasi menu sangat...</td>\n",
              "      <td>positive</td>\n",
              "      <td>tertandingi variasi menu menggoda selera direk...</td>\n",
              "    </tr>\n",
              "    <tr>\n",
              "      <th>10050</th>\n",
              "      <td>: jangan lewatkan diskon langsung hingga rp 10...</td>\n",
              "      <td>neutral</td>\n",
              "      <td>melewati diskon langsung rupiah 10 juta senang...</td>\n",
              "    </tr>\n",
              "    <tr>\n",
              "      <th>7934</th>\n",
              "      <td>sambal nya bikin ketagihan , rasa ayam nya tid...</td>\n",
              "      <td>positive</td>\n",
              "      <td>sambal nya bikin ketagihan ayam nya nya pelaya...</td>\n",
              "    </tr>\n",
              "    <tr>\n",
              "      <th>4148</th>\n",
              "      <td>serius . sampai detik ini saya belum melihat s...</td>\n",
              "      <td>negative</td>\n",
              "      <td>serius detik satupun tim sukses bosan cerdas o...</td>\n",
              "    </tr>\n",
              "    <tr>\n",
              "      <th>2198</th>\n",
              "      <td>harga memang tidak bisa bohong , walaupun untu...</td>\n",
              "      <td>positive</td>\n",
              "      <td>harga bohong ukuran batagor mahal enak banget ...</td>\n",
              "    </tr>\n",
              "    <tr>\n",
              "      <th>737</th>\n",
              "      <td>untuk layanan weekend banking yang berlokasi d...</td>\n",
              "      <td>neutral</td>\n",
              "      <td>layanan pekan banking berlokasi bekasi ernest ...</td>\n",
              "    </tr>\n",
              "  </tbody>\n",
              "</table>\n",
              "</div>\n",
              "      <button class=\"colab-df-convert\" onclick=\"convertToInteractive('df-ba6da0e0-72dc-43e3-86dc-18934d4d6ec3')\"\n",
              "              title=\"Convert this dataframe to an interactive table.\"\n",
              "              style=\"display:none;\">\n",
              "        \n",
              "  <svg xmlns=\"http://www.w3.org/2000/svg\" height=\"24px\"viewBox=\"0 0 24 24\"\n",
              "       width=\"24px\">\n",
              "    <path d=\"M0 0h24v24H0V0z\" fill=\"none\"/>\n",
              "    <path d=\"M18.56 5.44l.94 2.06.94-2.06 2.06-.94-2.06-.94-.94-2.06-.94 2.06-2.06.94zm-11 1L8.5 8.5l.94-2.06 2.06-.94-2.06-.94L8.5 2.5l-.94 2.06-2.06.94zm10 10l.94 2.06.94-2.06 2.06-.94-2.06-.94-.94-2.06-.94 2.06-2.06.94z\"/><path d=\"M17.41 7.96l-1.37-1.37c-.4-.4-.92-.59-1.43-.59-.52 0-1.04.2-1.43.59L10.3 9.45l-7.72 7.72c-.78.78-.78 2.05 0 2.83L4 21.41c.39.39.9.59 1.41.59.51 0 1.02-.2 1.41-.59l7.78-7.78 2.81-2.81c.8-.78.8-2.07 0-2.86zM5.41 20L4 18.59l7.72-7.72 1.47 1.35L5.41 20z\"/>\n",
              "  </svg>\n",
              "      </button>\n",
              "      \n",
              "  <style>\n",
              "    .colab-df-container {\n",
              "      display:flex;\n",
              "      flex-wrap:wrap;\n",
              "      gap: 12px;\n",
              "    }\n",
              "\n",
              "    .colab-df-convert {\n",
              "      background-color: #E8F0FE;\n",
              "      border: none;\n",
              "      border-radius: 50%;\n",
              "      cursor: pointer;\n",
              "      display: none;\n",
              "      fill: #1967D2;\n",
              "      height: 32px;\n",
              "      padding: 0 0 0 0;\n",
              "      width: 32px;\n",
              "    }\n",
              "\n",
              "    .colab-df-convert:hover {\n",
              "      background-color: #E2EBFA;\n",
              "      box-shadow: 0px 1px 2px rgba(60, 64, 67, 0.3), 0px 1px 3px 1px rgba(60, 64, 67, 0.15);\n",
              "      fill: #174EA6;\n",
              "    }\n",
              "\n",
              "    [theme=dark] .colab-df-convert {\n",
              "      background-color: #3B4455;\n",
              "      fill: #D2E3FC;\n",
              "    }\n",
              "\n",
              "    [theme=dark] .colab-df-convert:hover {\n",
              "      background-color: #434B5C;\n",
              "      box-shadow: 0px 1px 3px 1px rgba(0, 0, 0, 0.15);\n",
              "      filter: drop-shadow(0px 1px 2px rgba(0, 0, 0, 0.3));\n",
              "      fill: #FFFFFF;\n",
              "    }\n",
              "  </style>\n",
              "\n",
              "      <script>\n",
              "        const buttonEl =\n",
              "          document.querySelector('#df-ba6da0e0-72dc-43e3-86dc-18934d4d6ec3 button.colab-df-convert');\n",
              "        buttonEl.style.display =\n",
              "          google.colab.kernel.accessAllowed ? 'block' : 'none';\n",
              "\n",
              "        async function convertToInteractive(key) {\n",
              "          const element = document.querySelector('#df-ba6da0e0-72dc-43e3-86dc-18934d4d6ec3');\n",
              "          const dataTable =\n",
              "            await google.colab.kernel.invokeFunction('convertToInteractive',\n",
              "                                                     [key], {});\n",
              "          if (!dataTable) return;\n",
              "\n",
              "          const docLinkHtml = 'Like what you see? Visit the ' +\n",
              "            '<a target=\"_blank\" href=https://colab.research.google.com/notebooks/data_table.ipynb>data table notebook</a>'\n",
              "            + ' to learn more about interactive tables.';\n",
              "          element.innerHTML = '';\n",
              "          dataTable['output_type'] = 'display_data';\n",
              "          await google.colab.output.renderOutput(dataTable, element);\n",
              "          const docLink = document.createElement('div');\n",
              "          docLink.innerHTML = docLinkHtml;\n",
              "          element.appendChild(docLink);\n",
              "        }\n",
              "      </script>\n",
              "    </div>\n",
              "  </div>\n",
              "  "
            ]
          },
          "metadata": {},
          "execution_count": 16
        }
      ],
      "source": [
        "df.sample(50)"
      ]
    },
    {
      "cell_type": "markdown",
      "metadata": {
        "id": "wpzN3Ma9KNkU"
      },
      "source": [
        "Sortir data dan label berdasarkan sentimen"
      ]
    },
    {
      "cell_type": "code",
      "execution_count": 17,
      "metadata": {
        "id": "mQl_aBZnCADx"
      },
      "outputs": [],
      "source": [
        "neg = df.loc[df['label'] == 'negative'].text_clean.tolist()\n",
        "neu = df.loc[df['label'] == 'neutral'].text_clean.tolist()\n",
        "pos = df.loc[df['label'] == 'positive'].text_clean.tolist()\n",
        "\n",
        "neg_label = df.loc[df['label'] == 'negative'].label.tolist()\n",
        "neu_label = df.loc[df['label'] == 'neutral'].label.tolist()\n",
        "pos_label = df.loc[df['label'] == 'positive'].label.tolist()"
      ]
    },
    {
      "cell_type": "code",
      "execution_count": 18,
      "metadata": {
        "colab": {
          "base_uri": "https://localhost:8080/"
        },
        "id": "Bk0n_VhSCADx",
        "outputId": "80a05b62-cbd0-4381-8cd3-57eff85736a1"
      },
      "outputs": [
        {
          "output_type": "stream",
          "name": "stdout",
          "text": [
            "Pos: 6416, Neu: 1148, Neg: 3436\n",
            "Total data: 11000\n"
          ]
        }
      ],
      "source": [
        "total_data = pos + neu + neg\n",
        "labels = pos_label + neu_label + neg_label\n",
        "\n",
        "print(\"Pos: %s, Neu: %s, Neg: %s\" % (len(pos), len(neu), len(neg)))\n",
        "print(\"Total data: %s\" % len(total_data))"
      ]
    },
    {
      "cell_type": "markdown",
      "metadata": {
        "id": "OCZ-6bD23neM"
      },
      "source": [
        "# **Feature Extraction**"
      ]
    },
    {
      "cell_type": "code",
      "execution_count": 19,
      "metadata": {
        "colab": {
          "base_uri": "https://localhost:8080/"
        },
        "id": "PCiZaFUIpW2M",
        "outputId": "cf700bd1-1e21-4b0c-d915-84d5689de9bb"
      },
      "outputs": [
        {
          "output_type": "stream",
          "name": "stdout",
          "text": [
            "tokenizer_lstm.pickle has created!\n"
          ]
        }
      ],
      "source": [
        "max_features = 100000\n",
        "tokenizer = Tokenizer(num_words=max_features, split=' ', lower=True)\n",
        "tokenizer.fit_on_texts(total_data)\n",
        "with open('tokenizer_lstm.pickle', 'wb') as handle:\n",
        "    pickle.dump(tokenizer, handle, protocol=pickle.HIGHEST_PROTOCOL)\n",
        "    print(\"tokenizer_lstm.pickle has created!\")\n",
        "\n",
        "X = tokenizer.texts_to_sequences(total_data)\n"
      ]
    },
    {
      "cell_type": "code",
      "execution_count": 20,
      "metadata": {
        "colab": {
          "base_uri": "https://localhost:8080/"
        },
        "id": "zN0XFn2NeelP",
        "outputId": "3d4c35c5-b503-4abb-aa2a-89701eb55888"
      },
      "outputs": [
        {
          "output_type": "stream",
          "name": "stdout",
          "text": [
            "x_pad_sequences.pickle has created!\n"
          ]
        }
      ],
      "source": [
        "vocab_size = len(tokenizer.word_index)\n",
        "maxlen = max(len(x) for x in X)\n",
        "\n",
        "X = pad_sequences(X)\n",
        "with open('x_pad_sequences.pickle', 'wb') as handle:\n",
        "    pickle.dump(X, handle, protocol=pickle.HIGHEST_PROTOCOL)\n",
        "    print(\"x_pad_sequences.pickle has created!\")"
      ]
    },
    {
      "cell_type": "code",
      "execution_count": 21,
      "metadata": {
        "colab": {
          "base_uri": "https://localhost:8080/"
        },
        "id": "_Y_7Y0oP1PSk",
        "outputId": "470a80d4-ed37-43a2-93d4-6f5a37f2a8cd"
      },
      "outputs": [
        {
          "output_type": "stream",
          "name": "stdout",
          "text": [
            "y_labels.pickle has created!\n"
          ]
        }
      ],
      "source": [
        "Y = pd.get_dummies(labels)\n",
        "Y = Y.values\n",
        "\n",
        "with open('y_labels.pickle', 'wb') as handle:\n",
        "    pickle.dump(Y, handle, protocol=pickle.HIGHEST_PROTOCOL)\n",
        "    print(\"y_labels.pickle has created!\")"
      ]
    },
    {
      "cell_type": "markdown",
      "metadata": {
        "id": "TLEGjbe55MCw"
      },
      "source": [
        "# **Prepare train & test datasets/Splitting Dataset**"
      ]
    },
    {
      "cell_type": "markdown",
      "metadata": {
        "id": "hBdXaZ5oCjHJ"
      },
      "source": [
        "Split dataset 80% for train and 20% for test."
      ]
    },
    {
      "cell_type": "code",
      "execution_count": 22,
      "metadata": {
        "id": "0sy76K3El8GT"
      },
      "outputs": [],
      "source": [
        "file = open(\"x_pad_sequences.pickle\",'rb')\n",
        "X = pickle.load(file)\n",
        "file.close()\n",
        "\n",
        "file = open(\"y_labels.pickle\",'rb')\n",
        "Y = pickle.load(file)\n",
        "file.close()\n",
        "\n",
        "X_train, X_test, y_train, y_test = train_test_split(X, Y, test_size=0.2, random_state=1)"
      ]
    },
    {
      "cell_type": "markdown",
      "metadata": {
        "id": "hOMfSOcTt0pt"
      },
      "source": [
        "# **Training**"
      ]
    },
    {
      "cell_type": "code",
      "execution_count": 29,
      "metadata": {
        "colab": {
          "base_uri": "https://localhost:8080/"
        },
        "id": "gJZvNLSsqa6G",
        "outputId": "ead3be1b-6f8e-4e01-9d94-cfd5076d605a"
      },
      "outputs": [
        {
          "output_type": "stream",
          "name": "stdout",
          "text": [
            "Model: \"sequential_6\"\n",
            "_________________________________________________________________\n",
            " Layer (type)                Output Shape              Param #   \n",
            "=================================================================\n",
            " embedding_6 (Embedding)     (None, 78, 100)           10000000  \n",
            "                                                                 \n",
            " lstm_6 (LSTM)               (None, 128)               117248    \n",
            "                                                                 \n",
            " dense_24 (Dense)            (None, 256)               33024     \n",
            "                                                                 \n",
            " dropout_18 (Dropout)        (None, 256)               0         \n",
            "                                                                 \n",
            " batch_normalization_18 (Bat  (None, 256)              1024      \n",
            " chNormalization)                                                \n",
            "                                                                 \n",
            " dense_25 (Dense)            (None, 128)               32896     \n",
            "                                                                 \n",
            " dropout_19 (Dropout)        (None, 128)               0         \n",
            "                                                                 \n",
            " batch_normalization_19 (Bat  (None, 128)              512       \n",
            " chNormalization)                                                \n",
            "                                                                 \n",
            " dense_26 (Dense)            (None, 128)               16512     \n",
            "                                                                 \n",
            " dropout_20 (Dropout)        (None, 128)               0         \n",
            "                                                                 \n",
            " batch_normalization_20 (Bat  (None, 128)              512       \n",
            " chNormalization)                                                \n",
            "                                                                 \n",
            " dense_27 (Dense)            (None, 3)                 387       \n",
            "                                                                 \n",
            "=================================================================\n",
            "Total params: 10,202,115\n",
            "Trainable params: 10,201,091\n",
            "Non-trainable params: 1,024\n",
            "_________________________________________________________________\n",
            "None\n",
            "Epoch 1/10\n",
            "440/440 [==============================] - 7s 10ms/step - loss: 0.7024 - accuracy: 0.7206 - val_loss: 0.5633 - val_accuracy: 0.7291\n",
            "Epoch 2/10\n",
            "440/440 [==============================] - 4s 9ms/step - loss: 0.3497 - accuracy: 0.8695 - val_loss: 0.4561 - val_accuracy: 0.8277\n",
            "Epoch 2: early stopping\n"
          ]
        }
      ],
      "source": [
        "embed_dim = 100\n",
        "units = 128\n",
        "\n",
        "model = Sequential()\n",
        "model.add(Embedding(max_features, embed_dim, input_length=X.shape[1]))\n",
        "model.add(LSTM(units, dropout=0.1))\n",
        "\n",
        "# neural network\n",
        "model.add(Dense(256, activation='relu'))\n",
        "model.add(Dropout(0.2))\n",
        "model.add(BatchNormalization())\n",
        "\n",
        "model.add(Dense(128, activation='relu'))\n",
        "model.add(Dropout(0.1))\n",
        "model.add(BatchNormalization())\n",
        "\n",
        "model.add(Dense(128, kernel_regularizer='L1L2', activation='relu'))\n",
        "model.add(Dropout(0.2))\n",
        "model.add(BatchNormalization())\n",
        "\n",
        "model.add(Dense(3,activation='softmax'))\n",
        "model.compile(loss = 'categorical_crossentropy', optimizer='adam',metrics = ['accuracy'])\n",
        "print(model.summary())\n",
        "\n",
        "adam = optimizers.Adam(learning_rate = 0.001)\n",
        "model.compile(loss = 'categorical_crossentropy', optimizer = 'adam', metrics = ['accuracy'])\n",
        "\n",
        "es = EarlyStopping(monitor='val_loss', mode='min', verbose=1)\n",
        "history = model.fit(X_train, y_train, epochs=10, batch_size=20, validation_data=(X_test, y_test), verbose=1, callbacks=[es])"
      ]
    },
    {
      "cell_type": "markdown",
      "metadata": {
        "id": "JTDFlmsbxJmI"
      },
      "source": [
        "# Evaluation\n",
        "\n",
        "\n"
      ]
    },
    {
      "cell_type": "markdown",
      "metadata": {
        "id": "vjslk5QjUHWm"
      },
      "source": [
        "## Confussion Matrix, Accuracy, F1, Recall, Precision"
      ]
    },
    {
      "cell_type": "code",
      "execution_count": 30,
      "metadata": {
        "colab": {
          "base_uri": "https://localhost:8080/"
        },
        "id": "aO8f3EBDudt4",
        "outputId": "bcea0aea-c3e5-4f07-9061-cdbfda80eb54"
      },
      "outputs": [
        {
          "output_type": "stream",
          "name": "stdout",
          "text": [
            "69/69 [==============================] - 1s 4ms/step\n",
            "Testing selesai\n",
            "              precision    recall  f1-score   support\n",
            "\n",
            "           0       0.90      0.62      0.73       685\n",
            "           1       0.65      0.74      0.69       233\n",
            "           2       0.84      0.96      0.89      1282\n",
            "\n",
            "    accuracy                           0.83      2200\n",
            "   macro avg       0.80      0.77      0.77      2200\n",
            "weighted avg       0.84      0.83      0.82      2200\n",
            "\n"
          ]
        }
      ],
      "source": [
        "predictions = model.predict(X_test)\n",
        "y_pred = predictions\n",
        "matrix_test = metrics.classification_report(y_test.argmax(axis=1), y_pred.argmax(axis=1))\n",
        "print(\"Testing selesai\")\n",
        "print(matrix_test)"
      ]
    },
    {
      "cell_type": "markdown",
      "metadata": {
        "id": "Xifq9WsUUi62"
      },
      "source": [
        "## Cross Validation"
      ]
    },
    {
      "cell_type": "code",
      "execution_count": 31,
      "metadata": {
        "colab": {
          "base_uri": "https://localhost:8080/"
        },
        "id": "kkaxJ4CEUtl_",
        "scrolled": true,
        "outputId": "08cfb10f-eb47-4941-e4d6-fa774a92c18f"
      },
      "outputs": [
        {
          "output_type": "stream",
          "name": "stdout",
          "text": [
            "69/69 [==============================] - 1s 3ms/step\n",
            "Training ke- 1\n",
            "              precision    recall  f1-score   support\n",
            "\n",
            "           0       0.76      0.77      0.77       685\n",
            "           1       0.73      0.70      0.71       233\n",
            "           2       0.89      0.89      0.89      1282\n",
            "\n",
            "    accuracy                           0.83      2200\n",
            "   macro avg       0.79      0.79      0.79      2200\n",
            "weighted avg       0.83      0.83      0.83      2200\n",
            "\n",
            "======================================================\n",
            "69/69 [==============================] - 1s 4ms/step\n",
            "Training ke- 2\n",
            "              precision    recall  f1-score   support\n",
            "\n",
            "           0       0.81      0.77      0.79       685\n",
            "           1       0.75      0.73      0.74       233\n",
            "           2       0.89      0.91      0.90      1282\n",
            "\n",
            "    accuracy                           0.85      2200\n",
            "   macro avg       0.82      0.80      0.81      2200\n",
            "weighted avg       0.85      0.85      0.85      2200\n",
            "\n",
            "======================================================\n",
            "69/69 [==============================] - 1s 3ms/step\n",
            "Training ke- 3\n",
            "              precision    recall  f1-score   support\n",
            "\n",
            "           0       0.79      0.73      0.76       685\n",
            "           1       0.80      0.48      0.60       233\n",
            "           2       0.84      0.93      0.88      1282\n",
            "\n",
            "    accuracy                           0.82      2200\n",
            "   macro avg       0.81      0.71      0.75      2200\n",
            "weighted avg       0.82      0.82      0.81      2200\n",
            "\n",
            "======================================================\n",
            "69/69 [==============================] - 1s 3ms/step\n",
            "Training ke- 4\n",
            "              precision    recall  f1-score   support\n",
            "\n",
            "           0       0.84      0.67      0.75       685\n",
            "           1       0.76      0.61      0.68       233\n",
            "           2       0.84      0.95      0.89      1282\n",
            "\n",
            "    accuracy                           0.83      2200\n",
            "   macro avg       0.81      0.75      0.77      2200\n",
            "weighted avg       0.83      0.83      0.82      2200\n",
            "\n",
            "======================================================\n",
            "69/69 [==============================] - 1s 3ms/step\n",
            "Training ke- 5\n",
            "              precision    recall  f1-score   support\n",
            "\n",
            "           0       0.82      0.66      0.73       685\n",
            "           1       0.85      0.55      0.66       233\n",
            "           2       0.82      0.95      0.88      1282\n",
            "\n",
            "    accuracy                           0.82      2200\n",
            "   macro avg       0.83      0.72      0.76      2200\n",
            "weighted avg       0.82      0.82      0.81      2200\n",
            "\n",
            "======================================================\n",
            "\n",
            "\n",
            "\n",
            "Rata-rata Accuracy:  0.8309090909090908\n"
          ]
        }
      ],
      "source": [
        "\n",
        "kf = KFold(n_splits=5,random_state=30,shuffle=True)\n",
        "\n",
        "accuracies = []\n",
        "\n",
        "y = Y\n",
        "\n",
        "embed_dim = 100\n",
        "units = 128\n",
        "\n",
        "for iteration, data in enumerate(kf.split(X), start=1):\n",
        "\n",
        "    data_train   = X[data[0]]\n",
        "    target_train = y[data[0]]\n",
        "\n",
        "    data_test    = X[data[1]]\n",
        "    target_test  = y[data[1]]\n",
        "\n",
        "\n",
        "    model = Sequential()\n",
        "    model.add(Embedding(max_features, embed_dim, input_length=X.shape[1]))\n",
        "    model.add(LSTM(units, dropout=0.1))\n",
        "    \n",
        "    model.add(Dense(256, activation='relu'))\n",
        "    model.add(Dropout(0.2))\n",
        "    model.add(BatchNormalization())\n",
        "\n",
        "    model.add(Dense(128, activation='relu'))\n",
        "    model.add(Dropout(0.1))\n",
        "    model.add(BatchNormalization())\n",
        "\n",
        "    model.add(Dense(128, kernel_regularizer='L1L2', activation='relu'))\n",
        "    model.add(Dropout(0.2))\n",
        "    model.add(BatchNormalization())\n",
        "\n",
        "    model.add(Dense(3,activation='softmax'))\n",
        "    model.compile(loss = 'categorical_crossentropy', optimizer='adam',metrics = ['accuracy'])\n",
        "\n",
        "    adam = optimizers.Adam(learning_rate = 0.001)\n",
        "    model.compile(loss = 'categorical_crossentropy', optimizer = 'adam', metrics = ['accuracy'])\n",
        "\n",
        "    es = EarlyStopping(monitor='val_loss', mode='min', verbose=0)\n",
        "    history = model.fit(X_train, y_train, epochs=10, batch_size=20, validation_data=(X_test, y_test), verbose=0, callbacks=[es])\n",
        "\n",
        "    predictions = model.predict(X_test)\n",
        "    y_pred = predictions\n",
        "\n",
        "    # for the current fold only    \n",
        "    accuracy = accuracy_score(y_test.argmax(axis=1), y_pred.argmax(axis=1))\n",
        "\n",
        "    print(\"Training ke-\", iteration)\n",
        "    print(classification_report(y_test.argmax(axis=1), y_pred.argmax(axis=1)))\n",
        "    print(\"======================================================\")\n",
        "\n",
        "    accuracies.append(accuracy)\n",
        "\n",
        "# this is the average accuracy over all folds\n",
        "average_accuracy = np.mean(accuracies)\n",
        "\n",
        "print()\n",
        "print()\n",
        "print()\n",
        "print(\"Rata-rata Accuracy: \", average_accuracy)"
      ]
    },
    {
      "cell_type": "markdown",
      "metadata": {
        "id": "tR_nJoi8VU26"
      },
      "source": [
        "Check the accuracy in avg"
      ]
    },
    {
      "cell_type": "markdown",
      "metadata": {
        "id": "y9ZlKHaIySGS"
      },
      "source": [
        "## Visualization"
      ]
    },
    {
      "cell_type": "markdown",
      "metadata": {
        "id": "oYJEuLEbO5Ep"
      },
      "source": [
        "For evaluation, use \"Visualization\", to find best training performance based on visualization direction."
      ]
    },
    {
      "cell_type": "code",
      "execution_count": 32,
      "metadata": {
        "colab": {
          "base_uri": "https://localhost:8080/",
          "height": 337
        },
        "id": "Zb_uNKEFr7eh",
        "outputId": "d1705cfe-a6fe-476c-fd3f-0035c46a4538"
      },
      "outputs": [
        {
          "output_type": "display_data",
          "data": {
            "text/plain": [
              "<Figure size 864x360 with 2 Axes>"
            ],
            "image/png": "[encoded data removed]"
          },
          "metadata": {
            "needs_background": "light"
          }
        }
      ],
      "source": [
        "# history.history\n",
        "\n",
        "plt.style.use('ggplot')\n",
        "\n",
        "def plot_history(history):\n",
        "    acc = history.history['accuracy']\n",
        "    val_acc = history.history['val_accuracy']\n",
        "    loss = history.history['loss']\n",
        "    val_loss = history.history['val_loss']\n",
        "    x = range(1, len(acc) + 1)\n",
        "\n",
        "    plt.figure(figsize=(12, 5))\n",
        "    plt.subplot(1, 2, 1)\n",
        "    plt.plot(x, acc, 'b', label='Training acc')\n",
        "    plt.plot(x, val_acc, 'r', label='Validation acc')\n",
        "    plt.title('Training and validation accuracy')\n",
        "    plt.legend()\n",
        "    plt.subplot(1, 2, 2)\n",
        "    plt.plot(x, loss, 'b', label='Training loss')\n",
        "    plt.plot(x, val_loss, 'r', label='Validation loss')\n",
        "    plt.title('Training and validation loss')\n",
        "    plt.legend()\n",
        "\n",
        "%matplotlib inline\n",
        "plot_history(history)"
      ]
    },
    {
      "cell_type": "code",
      "execution_count": 33,
      "metadata": {
        "colab": {
          "base_uri": "https://localhost:8080/"
        },
        "id": "kr410_pO5qKc",
        "outputId": "74581b4c-80bb-4865-b57b-88ddda2320f0"
      },
      "outputs": [
        {
          "output_type": "stream",
          "name": "stdout",
          "text": [
            "Model has created!\n"
          ]
        }
      ],
      "source": [
        "model.save('model_lstm.h5')\n",
        "print(\"Model has created!\")"
      ]
    },
    {
      "cell_type": "markdown",
      "metadata": {
        "id": "YobDXU-A0d-A"
      },
      "source": [
        "# Predict"
      ]
    },
    {
      "cell_type": "code",
      "execution_count": 34,
      "metadata": {
        "colab": {
          "base_uri": "https://localhost:8080/"
        },
        "id": "TIZsLapT1-3X",
        "outputId": "517dd248-6b6b-42ea-847d-3c2c11cc57c8"
      },
      "outputs": [
        {
          "output_type": "stream",
          "name": "stdout",
          "text": [
            "1/1 [==============================] - 0s 411ms/step\n",
            "Text:  jalan jalan pantai anyer angker senang takut sih\n",
            "Sentiment:  positive\n",
            "Prediction:  [[0.3410253  0.00540123 0.6535735 ]]\n"
          ]
        }
      ],
      "source": [
        "import re \n",
        "from keras.models import load_model\n",
        "\n",
        "input_text = \"\"\"\n",
        "# jalan-jalan ke pantai anyer walaupun angker saya senang dan takut juga sih\n",
        "\"\"\"\n",
        "\n",
        "def cleansing(string):\n",
        "    string = string.lower()\n",
        "    string = string.strip()\n",
        "    string = re.sub(r'[^a-zA-z0-9]', ' ', string)\n",
        "    string = re.sub(r'([^\\s\\w]|_)+', ' ', string)\n",
        "\n",
        "    df3_dict = df3.set_index('alay',drop=True).to_dict()['normal']\n",
        "    pattern = r\"\\b(\" + \"|\".join(re.escape(k) for k in df3_dict) + r\")\\b\"\n",
        "    string = re.sub(pattern, lambda m: df3_dict[m.group(0)], string)\n",
        "\n",
        "    remove_stopword = lambda x : ' '.join(word for word in x.split() if word not in nltk.corpus.stopwords.words('indonesian'))\n",
        "    string = remove_stopword(string)\n",
        "\n",
        "    return string\n",
        "\n",
        "sentiment = ['negative', 'neutral', 'positive']\n",
        "\n",
        "text = [cleansing(input_text)]\n",
        "predicted = tokenizer.texts_to_sequences(text)\n",
        "guess = pad_sequences(predicted, maxlen=X.shape[1])\n",
        "\n",
        "model = load_model('model_lstm.h5')\n",
        "prediction = model.predict(guess)\n",
        "polarity = np.argmax(prediction[0])\n",
        "\n",
        "print(\"Text: \",text[0])\n",
        "print(\"Sentiment: \",sentiment[polarity])\n",
        "print(\"Prediction: \",prediction)\n"
      ]
    },
    {
      "cell_type": "code",
      "execution_count": 28,
      "metadata": {
        "id": "_2bP8coM3lAS"
      },
      "outputs": [],
      "source": []
    }
  ],
  "metadata": {
    "accelerator": "GPU",
    "colab": {
      "provenance": []
    },
    "gpuClass": "premium",
    "kernelspec": {
      "display_name": "Python 3 (ipykernel)",
      "language": "python",
      "name": "python3"
    },
    "language_info": {
      "codemirror_mode": {
        "name": "ipython",
        "version": 3
      },
      "file_extension": ".py",
      "mimetype": "text/x-python",
      "name": "python",
      "nbconvert_exporter": "python",
      "pygments_lexer": "ipython3",
      "version": "3.10.7"
    }
  },
  "nbformat": 4,
  "nbformat_minor": 0
}